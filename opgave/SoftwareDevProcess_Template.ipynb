{
 "cells": [
  {
   "cell_type": "markdown",
   "id": "17115500",
   "metadata": {},
   "source": [
    "# SOFTWARE DEVELOPMENT PROCESS\n",
    "\n",
    "1. Analyze the Problem Figure out exactly what the problem to be solved is.\n",
    "2. Determine Specifications Describe exactly what your program will do. Describe what the inputs and outputs of the program will be and how they relate to each other.\n",
    "3. Create a Design Formulate the overall structure of the program. Design the algorithm or business logic.\n",
    "4. Implement the Design Translate the design into a computer language.\n",
    "5. Test/Debug the Program Try out your program and see whether it works as expected. If there are any errors (often called bugs), then you should go back and fix them. The process of locating and  fixing errors is called debugging a program.\n",
    "6. Maintain the Program Continue developing the program in response to the needs of your users.\n"
   ]
  },
  {
   "cell_type": "markdown",
   "id": "ec3d008d",
   "metadata": {},
   "source": [
    "---"
   ]
  },
  {
   "cell_type": "markdown",
   "id": "246734db",
   "metadata": {},
   "source": [
    "### 1. Analyze the Problem Figure out exactly what the problem to be solved is."
   ]
  },
  {
   "cell_type": "code",
   "execution_count": null,
   "id": "f6b11f65",
   "metadata": {},
   "outputs": [],
   "source": []
  },
  {
   "cell_type": "markdown",
   "id": "5125da19",
   "metadata": {},
   "source": [
    "### 2. Determine Specifications Describe exactly what your program will do. Describe what the inputs and outputs of the program will be and how they relate to each other.\n"
   ]
  },
  {
   "cell_type": "code",
   "execution_count": null,
   "id": "8dd03bdd",
   "metadata": {},
   "outputs": [],
   "source": []
  },
  {
   "cell_type": "markdown",
   "id": "4a1682ef",
   "metadata": {},
   "source": [
    "### 3. Create a Design Formulate the overall structure of the program. Design the algorithm or business logic.\n"
   ]
  },
  {
   "cell_type": "code",
   "execution_count": null,
   "id": "260cd729",
   "metadata": {},
   "outputs": [],
   "source": []
  },
  {
   "cell_type": "markdown",
   "id": "1703252b",
   "metadata": {},
   "source": [
    "### 4. Implement the Design Translate the design into a computer language.\n"
   ]
  },
  {
   "cell_type": "code",
   "execution_count": null,
   "id": "a31bd654",
   "metadata": {},
   "outputs": [],
   "source": []
  },
  {
   "cell_type": "markdown",
   "id": "8cfc09e2",
   "metadata": {},
   "source": [
    "### 5. Test/Debug the Program Try out your program and see whether it works as expected. If there are any errors (often called bugs), then you should go back and fix them. The process of locating and  fixing errors is called debugging a program.\n"
   ]
  },
  {
   "cell_type": "code",
   "execution_count": null,
   "id": "8227c83c",
   "metadata": {},
   "outputs": [],
   "source": []
  },
  {
   "cell_type": "markdown",
   "id": "24e0a76a",
   "metadata": {},
   "source": [
    "### 6. Maintain the Program Continue developing the program in response to the needs of your users."
   ]
  },
  {
   "cell_type": "code",
   "execution_count": null,
   "id": "04fb2cec",
   "metadata": {},
   "outputs": [],
   "source": []
  }
 ],
 "metadata": {
  "kernelspec": {
   "display_name": "Python 3 (ipykernel)",
   "language": "python",
   "name": "python3"
  },
  "language_info": {
   "codemirror_mode": {
    "name": "ipython",
    "version": 3
   },
   "file_extension": ".py",
   "mimetype": "text/x-python",
   "name": "python",
   "nbconvert_exporter": "python",
   "pygments_lexer": "ipython3",
   "version": "3.9.12"
  }
 },
 "nbformat": 4,
 "nbformat_minor": 5
}
